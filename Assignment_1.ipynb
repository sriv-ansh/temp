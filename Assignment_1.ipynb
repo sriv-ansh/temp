{
 "cells": [
  {
   "cell_type": "markdown",
   "id": "3b31da8a-37e5-457a-b8a7-456183ba8909",
   "metadata": {},
   "source": [
    "<div class = \"alert alert-info\">Q1: How do you comment code in Python? What are the different types of comments?"
   ]
  },
  {
   "cell_type": "markdown",
   "id": "b5381a89-1a37-4d13-ba25-ee9edefb1d7e",
   "metadata": {},
   "source": [
    "### Answer : We Can Comments the Python Code with two types\n",
    "* 1  Block Comments\n",
    "* 2  Line Comments"
   ]
  },
  {
   "cell_type": "markdown",
   "id": "ab430660-23de-45e8-901a-9e12d80847b8",
   "metadata": {},
   "source": [
    "##### Block Comments : These are those Comments Which are Comments By Triple Quets \"\"\" **Your Comments**  \"\"\" We Can Comments Multiline of codes comments by using this quets but the thinks is Blocks Comments can be access"
   ]
  },
  {
   "cell_type": "markdown",
   "id": "8bfc0712-4f67-4be8-b6af-a63a930fcdb1",
   "metadata": {},
   "source": [
    "Line Comments: These are those comments which are comments by using # symbole it will comments line-by-line. but this comments can't be access"
   ]
  },
  {
   "cell_type": "markdown",
   "id": "d095c2db-4eac-4045-b23a-0a46beadafb6",
   "metadata": {},
   "source": [
    "<div class = \"alert alert-info\"> Q2: What are variables in Python? How do you declare and assign values to variables?"
   ]
  },
  {
   "cell_type": "markdown",
   "id": "a56e4e2c-b917-49a7-8608-8893c0fef8dd",
   "metadata": {},
   "source": [
    "##### Vriables are like container which hold the memory location of an object. and we assigning the values to variables by using assignment operator which is \"=\" \n",
    "Ex : - i = 10 ; Where i is a variable which hold the memory location of 10 and we are assigning the value 10 with x variable "
   ]
  },
  {
   "cell_type": "markdown",
   "id": "5976e1db-3184-41e3-9622-edad2af591cb",
   "metadata": {},
   "source": [
    "<div class = \"alert alert-info\"> Q3: How do you convert one data type to another in Python?"
   ]
  },
  {
   "cell_type": "markdown",
   "id": "038801b9-6482-46e7-ad7a-53e13f4f2ae2",
   "metadata": {},
   "source": [
    "#### Converting One Data Type to Another Data type is Know as type-casting in python to convert one data type into another datatype we can use there respective type casting function \n",
    "### And There are some restriction are there in type casting which are mention below\n",
    "* 1 : int:- \n",
    "###### Conversion of int to Float ------->>> Possible\n",
    "###### Conversion of int to string ------->>> Possible\n",
    "###### Conversion of int to Complex ------->>> Possible \n",
    "\n",
    "* 2 : Float :- \n",
    "###### Conversion of float to int ----------->>>> Possible\n",
    "###### Conversion of float to str ----------->>>> Possible\n",
    "###### Conversion of float to complex -------->>>> Possible\n",
    "\n",
    "* 3 String :- \n",
    "###### Conversion of String to int ----->>> Possible But The value should be in integer format Only Not Even Float\n",
    "###### Conversion of String to float --->>> Possible But The Value should be in the form of float Only Not Ever int\n",
    "###### Conversion of String to Complex ---->> Possible\n",
    "\n",
    "* 4 Bool :- \n",
    "###### Conversion of bool to int ----------->>>> Possible\n",
    "###### Conversion of bool to str ----------->>>> Possible\n",
    "###### Conversion of bool to complex -------->>>> Possible"
   ]
  },
  {
   "cell_type": "markdown",
   "id": "726c0f40-6dad-4cb4-8682-8190d54a243f",
   "metadata": {},
   "source": [
    "<div class = \"alert alert-info\"> Q4 : How do you write and execute a Python script from the command line?"
   ]
  },
  {
   "cell_type": "markdown",
   "id": "cccbe812-f667-4e97-b51c-31e670de3413",
   "metadata": {},
   "source": [
    "#### Just Press on window button and type cmd then open command promt and write \"python\" and then you are all set to write your python script"
   ]
  },
  {
   "cell_type": "markdown",
   "id": "1936a8d6-4654-4fb6-90a0-9923fbfdbd3b",
   "metadata": {},
   "source": [
    "<div class = \"alert alert-info\">Q5 : Given a list my_list = [1, 2, 3, 4, 5], write the code to slice the list and obtain the sub-list [2, 3]."
   ]
  },
  {
   "cell_type": "code",
   "execution_count": 59,
   "id": "a0145d97-60b2-4a08-8273-b5160c665f22",
   "metadata": {},
   "outputs": [
    {
     "data": {
      "text/plain": [
       "[2, 3]"
      ]
     },
     "execution_count": 59,
     "metadata": {},
     "output_type": "execute_result"
    }
   ],
   "source": [
    "my_list = [1,2,3,4,5]\n",
    "my_list[1:3]"
   ]
  },
  {
   "cell_type": "markdown",
   "id": "a230e558-a1c3-4e49-885e-e1b9d55ca65a",
   "metadata": {},
   "source": [
    "<div class = \"alert alert-info\">Q6. What is a complex number in mathematics, and how is it represented in Python?"
   ]
  },
  {
   "cell_type": "markdown",
   "id": "92b90665-67f3-46f1-949e-6ad459dfbb11",
   "metadata": {},
   "source": [
    "#### The Complex Number is the Combaintion of the Real Number + Imanginary Number Which Can Be Represent as (number +numberj)\n",
    "###### Ex : - 12+3j , 0+0j, 0j , 10.6+.4j, True+0j"
   ]
  },
  {
   "cell_type": "markdown",
   "id": "ffee3c4d-e58a-4d44-8cb1-328c2e8888c3",
   "metadata": {},
   "source": [
    "<div class = \"alert alert-info\">Q7. What is the correct way to declare a variable named age and assign the value 25 to it?"
   ]
  },
  {
   "cell_type": "markdown",
   "id": "3341241a-1dec-4a96-88d1-e5a8a388063f",
   "metadata": {},
   "source": [
    "##### The Correct way to delecare the variable age is age = 25"
   ]
  },
  {
   "cell_type": "code",
   "execution_count": 69,
   "id": "260fe76a-2064-4a05-ae40-ae880414f50a",
   "metadata": {},
   "outputs": [
    {
     "name": "stdout",
     "output_type": "stream",
     "text": [
      "25\n"
     ]
    }
   ],
   "source": [
    "age = 25 \n",
    "print(age)"
   ]
  },
  {
   "cell_type": "markdown",
   "id": "646a6ddf-e40d-407e-9ba6-53b87118d80b",
   "metadata": {},
   "source": [
    "<div class = \"alert alert-info\">Q8. Declare a variable named price and assign the value 9.99 to it. What data type does this variable\n",
    "belong to?"
   ]
  },
  {
   "cell_type": "code",
   "execution_count": 72,
   "id": "57c4e535-6a49-4bbd-84b4-6bb5f8e31042",
   "metadata": {},
   "outputs": [
    {
     "data": {
      "text/plain": [
       "float"
      ]
     },
     "execution_count": 72,
     "metadata": {},
     "output_type": "execute_result"
    }
   ],
   "source": [
    "price = 9.999\n",
    "### And the variable date  type is noting the question seems incorrect the object of the price variable will be float \n",
    "type(price)"
   ]
  },
  {
   "cell_type": "markdown",
   "id": "93223f3d-d70f-4e8f-9b48-6ff0e7a7e629",
   "metadata": {},
   "source": [
    "<div class = \"alert alert-info\">Q9. Create a variable named name and assign your full name to it as a string. How would you print the\n",
    "value of this variable?"
   ]
  },
  {
   "cell_type": "code",
   "execution_count": 73,
   "id": "7a75aa95-7947-4a8f-be7a-91d49f7dcd5a",
   "metadata": {},
   "outputs": [
    {
     "name": "stdout",
     "output_type": "stream",
     "text": [
      "Ansh Srivastav\n"
     ]
    }
   ],
   "source": [
    "name = \"Ansh Srivastav\"\n",
    "print(name)"
   ]
  },
  {
   "cell_type": "markdown",
   "id": "2ed4b206-7f03-47cb-88f0-cf6e37a34e0a",
   "metadata": {},
   "source": [
    "<div class = \"alert alert-info\"> Q10. Given the string \"Hello, World!\", extract the substring \"World\"."
   ]
  },
  {
   "cell_type": "code",
   "execution_count": 77,
   "id": "dd49afb9-b2c7-4a58-99e5-0a9ce5e6b9e7",
   "metadata": {},
   "outputs": [
    {
     "data": {
      "text/plain": [
       "'World'"
      ]
     },
     "execution_count": 77,
     "metadata": {},
     "output_type": "execute_result"
    }
   ],
   "source": [
    "### Method1 \n",
    "x = \"Hello, World!\"\n",
    "x[7:-1:]"
   ]
  },
  {
   "cell_type": "code",
   "execution_count": 80,
   "id": "6018f913-5186-48e2-bbb2-99cb3305f329",
   "metadata": {},
   "outputs": [
    {
     "data": {
      "text/plain": [
       "'World'"
      ]
     },
     "execution_count": 80,
     "metadata": {},
     "output_type": "execute_result"
    }
   ],
   "source": [
    "#### Method2\n",
    "x = \"Hello,World!\"\n",
    "x.replace(\"Hello,\",\"\").replace(\"!\",\"\")"
   ]
  },
  {
   "cell_type": "markdown",
   "id": "0d0d6790-b5e0-4686-a9d8-03ca971f0d01",
   "metadata": {},
   "source": [
    "<div class = \"alert alert-info\">Create a variable named \"is_student\" and assign it a boolean value indicating whether you are currently a student or not."
   ]
  }
 ],
 "metadata": {
  "kernelspec": {
   "display_name": "Python 3 (ipykernel)",
   "language": "python",
   "name": "python3"
  },
  "language_info": {
   "codemirror_mode": {
    "name": "ipython",
    "version": 3
   },
   "file_extension": ".py",
   "mimetype": "text/x-python",
   "name": "python",
   "nbconvert_exporter": "python",
   "pygments_lexer": "ipython3",
   "version": "3.10.8"
  }
 },
 "nbformat": 4,
 "nbformat_minor": 5
}
