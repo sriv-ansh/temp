{
 "cells": [
  {
   "cell_type": "markdown",
   "id": "5af85a04-f8aa-4e16-9228-7c9d705cc284",
   "metadata": {},
   "source": [
    "#### Q1. Create a python program to sort the given list of tuples based on integer value using a lambda function."
   ]
  },
  {
   "cell_type": "code",
   "execution_count": 7,
   "id": "70d67a52-460c-4e59-9b11-a11641f95dfb",
   "metadata": {},
   "outputs": [
    {
     "data": {
      "text/plain": [
       "[('Virat Kohli', 24936),\n",
       " ('Jack Kallis', 25534),\n",
       " ('Ricky Ponting', 27483),\n",
       " ('Sachin Tendulkar', 34357)]"
      ]
     },
     "execution_count": 7,
     "metadata": {},
     "output_type": "execute_result"
    }
   ],
   "source": [
    "runs = [('Sachin Tendulkar', 34357), ('Ricky Ponting', 27483), ('Jack Kallis', 25534), ('Virat Kohli', 24936)]\n",
    "runs.sort(key = lambda x:x[-1])\n",
    "runs"
   ]
  },
  {
   "cell_type": "markdown",
   "id": "15f50242-2720-49c8-b669-519a36654149",
   "metadata": {},
   "source": [
    "#### Q2: Write a Python Program to find the squares of all the numbers in the given list of integers using lambda and map functions."
   ]
  },
  {
   "cell_type": "code",
   "execution_count": 12,
   "id": "3ae79eb3-3666-45bc-b941-9455635a9dd4",
   "metadata": {},
   "outputs": [
    {
     "data": {
      "text/plain": [
       "[1, 4, 9, 16, 25, 36, 49, 64, 81, 100]"
      ]
     },
     "execution_count": 12,
     "metadata": {},
     "output_type": "execute_result"
    }
   ],
   "source": [
    "l = [1,2,3,4,5,6,7,8,9,10]\n",
    "list(map(lambda x:x**2,l))"
   ]
  },
  {
   "cell_type": "markdown",
   "id": "dcd898c3-6926-472f-b60a-20c37086c0de",
   "metadata": {},
   "source": [
    "#### Q3. Write a python program to convert the given list of integers into a tuple of strings. Use map and lambda functions"
   ]
  },
  {
   "cell_type": "code",
   "execution_count": 16,
   "id": "f1f13601-cf13-4622-a8fc-3a7c92f523f2",
   "metadata": {},
   "outputs": [
    {
     "data": {
      "text/plain": [
       "('0', '1', '2', '3', '4', '5', '6', '7', '8', '9')"
      ]
     },
     "execution_count": 16,
     "metadata": {},
     "output_type": "execute_result"
    }
   ],
   "source": [
    "lis = [0,1,2,3,4,5,6,7,8,9]\n",
    "tuple(map(lambda x:str(x),lis))"
   ]
  },
  {
   "cell_type": "markdown",
   "id": "a3b3aa54-ee8e-4c94-82b6-7dc848e13af6",
   "metadata": {},
   "source": [
    "#### Q4. Write a python program using reduce function to compute the product of a list containing numbers from 1 to 25."
   ]
  },
  {
   "cell_type": "code",
   "execution_count": 19,
   "id": "0d7ece1c-3550-46a3-8630-35bbec05b4ec",
   "metadata": {},
   "outputs": [
    {
     "data": {
      "text/plain": [
       "620448401733239439360000"
      ]
     },
     "execution_count": 19,
     "metadata": {},
     "output_type": "execute_result"
    }
   ],
   "source": [
    "from functools import reduce\n",
    "lis =list(range(1,25))\n",
    "reduce(lambda x,y :x*y,lis)"
   ]
  },
  {
   "cell_type": "markdown",
   "id": "9e5f6f60-e20e-43de-af54-585ef31c00de",
   "metadata": {},
   "source": [
    "#### Q5. Write a python program to filter the numbers in a given list that are divisible by 2 and 3 using the filter function.\n",
    "[2, 3, 6, 9, 27, 60, 90, 120, 55, 46]"
   ]
  },
  {
   "cell_type": "code",
   "execution_count": 31,
   "id": "349a415b-f7d4-4fd9-a96d-21b93cf6a3e3",
   "metadata": {},
   "outputs": [
    {
     "data": {
      "text/plain": [
       "[6, 60, 90, 120]"
      ]
     },
     "execution_count": 31,
     "metadata": {},
     "output_type": "execute_result"
    }
   ],
   "source": [
    "number = [2, 3, 6, 9, 27, 60, 90, 120, 55, 46]\n",
    "temp = list(filter(lambda x : x%2==0 and x%3==0,number))\n",
    "temp"
   ]
  },
  {
   "cell_type": "markdown",
   "id": "b73000c8-a876-4ac8-b5bd-5e865249cd95",
   "metadata": {},
   "source": [
    "#### Q6. Write a python program to find palindromes in the given list of strings using lambda and filter function.\n",
    "['python', 'php', 'aba', 'radar', 'level']"
   ]
  },
  {
   "cell_type": "code",
   "execution_count": null,
   "id": "ce4a8982-8556-43d8-b5a7-eb0d88f6f615",
   "metadata": {},
   "outputs": [],
   "source": [
    "list_ = ['python', 'php', 'aba', 'radar', 'level']\n",
    "temp = filter(lambda x:x==x[::-1])"
   ]
  }
 ],
 "metadata": {
  "kernelspec": {
   "display_name": "Python 3 (ipykernel)",
   "language": "python",
   "name": "python3"
  },
  "language_info": {
   "codemirror_mode": {
    "name": "ipython",
    "version": 3
   },
   "file_extension": ".py",
   "mimetype": "text/x-python",
   "name": "python",
   "nbconvert_exporter": "python",
   "pygments_lexer": "ipython3",
   "version": "3.10.8"
  }
 },
 "nbformat": 4,
 "nbformat_minor": 5
}
